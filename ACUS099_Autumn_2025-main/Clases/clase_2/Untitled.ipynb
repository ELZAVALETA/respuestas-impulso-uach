{
 "cells": [
  {
   "cell_type": "code",
   "execution_count": 3,
   "id": "418217c4-d275-4306-a0f8-96f4edf3f391",
   "metadata": {},
   "outputs": [],
   "source": [
    "import numpy as np\n"
   ]
  },
  {
   "cell_type": "code",
   "execution_count": 5,
   "id": "4b10ab1b-f5bc-4e65-bd8d-61ac3468c814",
   "metadata": {},
   "outputs": [
    {
     "name": "stdout",
     "output_type": "stream",
     "text": [
      "2.2675736961451248e-05\n",
      "3810240000\n"
     ]
    }
   ],
   "source": [
    "fs=44100\n",
    "Ts=1/fs\n",
    "print(Ts)\n",
    "print(fs*3600*24)"
   ]
  },
  {
   "cell_type": "code",
   "execution_count": null,
   "id": "4881ee16-96bb-4aee-952f-3b104de3a225",
   "metadata": {},
   "outputs": [],
   "source": [
    "##teorema sampleo fmáxima (fm) fm=20000 (Hz); Fs (f de sampleo)>=2fm"
   ]
  },
  {
   "cell_type": "code",
   "execution_count": null,
   "id": "192df7f3-f376-45ad-a5d3-daf95924ae71",
   "metadata": {},
   "outputs": [],
   "source": []
  }
 ],
 "metadata": {
  "kernelspec": {
   "display_name": "acus69420",
   "language": "python",
   "name": "acus69420"
  },
  "language_info": {
   "codemirror_mode": {
    "name": "ipython",
    "version": 3
   },
   "file_extension": ".py",
   "mimetype": "text/x-python",
   "name": "python",
   "nbconvert_exporter": "python",
   "pygments_lexer": "ipython3",
   "version": "3.10.16"
  }
 },
 "nbformat": 4,
 "nbformat_minor": 5
}
