{
 "cells": [
  {
   "cell_type": "code",
   "execution_count": 5,
   "id": "45722bb7-0fe4-4074-9219-23a8f80f7ff8",
   "metadata": {},
   "outputs": [
    {
     "ename": "SyntaxError",
     "evalue": "unexpected character after line continuation character (1840085082.py, line 1)",
     "output_type": "error",
     "traceback": [
      "\u001b[1;36m  Cell \u001b[1;32mIn[5], line 1\u001b[1;36m\u001b[0m\n\u001b[1;33m    \\begin{figure}[ht]\u001b[0m\n\u001b[1;37m     ^\u001b[0m\n\u001b[1;31mSyntaxError\u001b[0m\u001b[1;31m:\u001b[0m unexpected character after line continuation character\n"
     ]
    }
   ],
   "source": [
    "\\begin{figure}[ht]\n",
    "\\includegraphics[width=.5in]{01Jorge_Zabaleta.png}\n",
    "\\caption{elzavaleta}\n",
    "\\end{figure}"
   ]
  },
  {
   "cell_type": "markdown",
   "id": "3d81fdfa-e9ab-46fe-b975-6906b060b611",
   "metadata": {},
   "source": [
    "# introduccion clase gucci\n",
    "-Instalar lib\n",
    " \n",
    "\\begin{equation}\n",
    "f=x^{2}\n",
    "\\end{equation}\n",
    "\n",
    "\\begin{figure}[ht]\n",
    "\\includegraphics[width=.5in]{C:\\Users\\skate\\Desktop\\clases acus099\\ACUS099_Autumn_2025-main/01Jorge_Zabaleta.png}\n",
    "\\caption{elzavaleta}\n",
    "\\end{figure}\n",
    "\n",
    "![elzavaleta](01Jorge_Zabaleta.png)\n"
   ]
  },
  {
   "cell_type": "code",
   "execution_count": null,
   "id": "b919fa22-76bb-4d86-b4c4-eca8f031322c",
   "metadata": {},
   "outputs": [],
   "source": [
    "# importa librerias\n",
    "import numpy as np\n",
    "import matplotlib.pyplot as plt\n"
   ]
  },
  {
   "cell_type": "code",
   "execution_count": 1,
   "id": "721df4b6-cd04-41e9-b12d-e3d23adb144a",
   "metadata": {},
   "outputs": [
    {
     "data": {
      "text/plain": [
       "'C:\\\\Users\\\\skate\\\\Desktop\\\\clases acus099\\\\ACUS099_Autumn_2025-main\\\\carpeta clase gucci jupyter'"
      ]
     },
     "execution_count": 1,
     "metadata": {},
     "output_type": "execute_result"
    }
   ],
   "source": [
    "pwd"
   ]
  },
  {
   "cell_type": "code",
   "execution_count": null,
   "id": "08705fa1-d835-4549-8f36-7dcce4df25f7",
   "metadata": {},
   "outputs": [],
   "source": []
  },
  {
   "cell_type": "code",
   "execution_count": 7,
   "id": "43edeaf4-de10-4e32-bbb1-d4742a030083",
   "metadata": {},
   "outputs": [
    {
     "name": "stderr",
     "output_type": "stream",
     "text": [
      "\"[aaa]{01Jorge_Zabaleta.png}\" no se reconoce como un comando interno o externo,\n",
      "programa o archivo por lotes ejecutable.\n"
     ]
    }
   ],
   "source": []
  },
  {
   "cell_type": "code",
   "execution_count": null,
   "id": "19c62cb1-661d-4c77-8755-8318bc6f94dd",
   "metadata": {},
   "outputs": [],
   "source": []
  },
  {
   "cell_type": "code",
   "execution_count": null,
   "id": "5a60dd72-a3b0-4eed-9cd0-5fb9a62dff0d",
   "metadata": {},
   "outputs": [],
   "source": []
  }
 ],
 "metadata": {
  "kernelspec": {
   "display_name": "acus69420",
   "language": "python",
   "name": "acus69420"
  },
  "language_info": {
   "codemirror_mode": {
    "name": "ipython",
    "version": 3
   },
   "file_extension": ".py",
   "mimetype": "text/x-python",
   "name": "python",
   "nbconvert_exporter": "python",
   "pygments_lexer": "ipython3",
   "version": "3.10.16"
  }
 },
 "nbformat": 4,
 "nbformat_minor": 5
}
